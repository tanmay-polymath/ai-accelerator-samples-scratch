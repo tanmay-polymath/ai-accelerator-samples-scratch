{
 "cells": [
  {
   "cell_type": "markdown",
   "metadata": {},
   "source": [
    "# Basic Prompting Techniques — Beginner-Friendly\n",
    "\n",
    "Practice core prompting patterns with tiny examples:\n",
    "\n",
    "1. Role Prompting  \n",
    "2. Zero-Shot Prompting  \n",
    "3. Few-Shot Prompting  \n",
    "4. Chain-of-Thought (brief reasoning)  \n",
    "5. Few-Shot Chain-of-Thought (brief reasoning)  \n",
    "6. Zero-Shot Chain-of-Thought (brief reasoning)  \n",
    "7. Prompt Chaining (multi-step)  \n",
    "8. Using System Prompts (tone/role)\n",
    "\n",
    "Built on: 2025-08-21\n",
    "\n",
    "**Tip:** Run each cell, read the output, then change the strings and try again."
   ]
  },
  {
   "cell_type": "markdown",
   "metadata": {},
   "source": [
    "## 0) Setup (OpenAI client + tiny helper)\n",
    "\n",
    "- Install once: `pip install openai`  \n",
    "- Set your API key in `OPENAI_API_KEY` (env var)."
   ]
  },
  {
   "cell_type": "code",
   "execution_count": 7,
   "metadata": {},
   "outputs": [],
   "source": [
    "import os\n",
    "from openai import OpenAI\n",
    "\n",
    "# If needed, set your key here (avoid committing real keys):\n",
    "os.environ[\"OPENAI_API_KEY\"] = \"\" \n",
    "\n",
    "client = OpenAI()\n",
    "\n",
    "def get_completion(prompt, model=\"gpt-4o-mini\", temperature=0.3, system=\"You are a helpful assistant.\"):\n",
    "    \"\"\"Send a prompt and get back plain text.\"\"\"\n",
    "    resp = client.responses.create(\n",
    "        model=model,\n",
    "        temperature=temperature,\n",
    "        input=[\n",
    "            {\"role\": \"system\", \"content\": system},\n",
    "            {\"role\": \"user\", \"content\": prompt},\n",
    "        ],\n",
    "    )\n",
    "    return resp.output_text"
   ]
  },
  {
   "cell_type": "markdown",
   "metadata": {},
   "source": [
    "---\n",
    "## 1) Role Prompting\n",
    "Tell the model **who it is** to set tone and style."
   ]
  },
  {
   "cell_type": "code",
   "execution_count": 8,
   "metadata": {},
   "outputs": [
    {
     "name": "stdout",
     "output_type": "stream",
     "text": [
      "- **Festive Style & Comfort**: Step into the season with KoalaKicks! These vibrant sneakers combine playful designs with a snug fit, perfect for all-day wear.  \n",
      "- **Easy Care**: Made from washable material, KoalaKicks keep your festive flair fresh and clean, so you can enjoy every moment without worry!\n"
     ]
    }
   ],
   "source": [
    "system_msg = \"You are a friendly e-commerce copywriter.\"\n",
    "prompt = (\n",
    "    \"Write two short bullets that highlight this product for a PDP.\"\n",
    "    \"Product: KoalaKicks festive sneakers with comfy fit and washable material.\"\n",
    ")\n",
    "print(get_completion(prompt, system=system_msg, temperature=0.5))"
   ]
  },
  {
   "cell_type": "code",
   "execution_count": null,
   "metadata": {},
   "outputs": [],
   "source": [
    "# Try changing the role and see the style shift.\n",
    "system_msg = \"You are a strict compliance officer.\"\n",
    "prompt = \"Describe the key return policy rules in one short paragraph for employees.\"\n",
    "print(get_completion(prompt, system=system_msg, temperature=0.3))"
   ]
  },
  {
   "cell_type": "markdown",
   "metadata": {},
   "source": [
    "---\n",
    "## 2) Zero-Shot Prompting\n",
    "Ask for a task **without** giving examples."
   ]
  },
  {
   "cell_type": "code",
   "execution_count": null,
   "metadata": {},
   "outputs": [],
   "source": [
    "review = \"Shoes are comfy but delivery was late.\"\n",
    "prompt = (\n",
    "    \"Classify the sentiment of this review as one word: Positive, Neutral, or Negative.\"\n",
    "    \"Review: \" + review\n",
    ")\n",
    "print(get_completion(prompt, temperature=0))"
   ]
  },
  {
   "cell_type": "markdown",
   "metadata": {},
   "source": [
    "---\n",
    "## 3) Few-Shot Prompting\n",
    "Give **a couple of examples** to teach the pattern."
   ]
  },
  {
   "cell_type": "code",
   "execution_count": 10,
   "metadata": {},
   "outputs": [
    {
     "name": "stdout",
     "output_type": "stream",
     "text": [
      "Label: Negative\n"
     ]
    }
   ],
   "source": [
    "prompt = (\n",
    "    \"Task: Label each review as Positive, Neutral, or Negative.\"\n",
    "    \"Example:\"\n",
    "    \"Review: Love the fit and look! -> Label: Positive\"\n",
    "    \"Review: It's okay, nothing special. -> Label: Neutral\"\n",
    "    \"Review: Box was crushed and arrived 3 days late. -> Label:\"\n",
    ")\n",
    "print(get_completion(prompt, temperature=0))"
   ]
  },
  {
   "cell_type": "markdown",
   "metadata": {},
   "source": [
    "---\n",
    "## 4) Chain-of-Thought (brief reasoning)\n",
    "Ask for **short reasoning** before the answer."
   ]
  },
  {
   "cell_type": "code",
   "execution_count": null,
   "metadata": {},
   "outputs": [],
   "source": [
    "prompt = (\n",
    "    \"A shopper buys two items priced at ₹499 and ₹799. There is a 10% discount on the total.\"\n",
    "    \"Show your reasoning in 2–3 short steps, then give the final total on a new line starting with 'Answer: ₹'.\"\n",
    ")\n",
    "print(get_completion(prompt, temperature=0.2))"
   ]
  },
  {
   "cell_type": "markdown",
   "metadata": {},
   "source": [
    "---\n",
    "## 5) Few-Shot Chain-of-Thought (brief)\n",
    "Give one example of reasoning, then a new question."
   ]
  },
  {
   "cell_type": "code",
   "execution_count": null,
   "metadata": {},
   "outputs": [],
   "source": [
    "prompt = (\n",
    "    \"Example:\"\n",
    "    \"Question: A cart has items ₹300 and ₹200. Tax is 5% on the total.\"\n",
    "    \"Reasoning: Add 300+200=500; 5% of 500 is 25; total 525.\"\n",
    "    \"Answer: ₹525\"\n",
    "    \"Now you try:\"\n",
    "    \"Question: A cart has items ₹1200 and ₹300. Discount is 15% on the total.\"\n",
    "    \"Show brief reasoning (2–3 steps) and final line 'Answer: ₹'.\"\n",
    ")\n",
    "print(get_completion(prompt, temperature=0.2))"
   ]
  },
  {
   "cell_type": "markdown",
   "metadata": {},
   "source": [
    "---\n",
    "## 6) Zero-Shot Chain-of-Thought (brief)\n",
    "Ask for brief reasoning with **no examples**."
   ]
  },
  {
   "cell_type": "code",
   "execution_count": null,
   "metadata": {},
   "outputs": [],
   "source": [
    "prompt = (\n",
    "    \"A store opens at 10:00 and closes at 19:30. How many hours is it open?\"\n",
    "    \"Think Step-By-Step. Give 1–2 short steps, then a final line 'Answer: X hours Y minutes'.\"\n",
    ")\n",
    "print(get_completion(prompt, temperature=0.2))"
   ]
  },
  {
   "cell_type": "markdown",
   "metadata": {},
   "source": [
    "---\n",
    "## 7) Prompt Chaining (multi-step)\n",
    "Break work into **small steps** and reuse outputs."
   ]
  },
  {
   "cell_type": "code",
   "execution_count": null,
   "metadata": {},
   "outputs": [],
   "source": [
    "text = (\n",
    "    \"KoalaKicks launches festive sneakers. Key points: comfy fit, washable material, \"\n",
    "    \"kids and adult sizes, limited seasonal colors.\"\n",
    ")\n",
    "\n",
    "# Step 1: Extract facts\n",
    "prompt1 = \"Extract 4 short bullet facts from this product note:\" + text\n",
    "facts = get_completion(prompt1, temperature=0.2)\n",
    "print(\"Facts:\\n\" + facts)\n",
    "\n",
    "# Step 2: Use the facts\n",
    "prompt2 = \"Write a friendly 60-word product description using these facts:\" + facts + \"\\nEnd with a simple call to action.\"\n",
    "print(\"\\nDescription:\\n\" + get_completion(prompt2, temperature=0.6))"
   ]
  },
  {
   "cell_type": "markdown",
   "metadata": {},
   "source": [
    "---\n",
    "## 8) Using System Prompts (tone/role)\n",
    "Change the system message to control tone with the **same prompt**."
   ]
  },
  {
   "cell_type": "code",
   "execution_count": null,
   "metadata": {},
   "outputs": [],
   "source": [
    "base_prompt = \"Explain the return policy in 2 sentences.\"\n",
    "\n",
    "print(\"System = friendly copywriter\")\n",
    "print(get_completion(base_prompt, system=\"You are a friendly e-commerce copywriter.\", temperature=0.4))\n",
    "\n",
    "print(\"\\nSystem = strict compliance officer\")\n",
    "print(get_completion(base_prompt, system=\"You are a strict compliance officer who writes clearly and precisely.\", temperature=0.2))"
   ]
  },
  {
   "cell_type": "markdown",
   "metadata": {},
   "source": [
    "---\n",
    "## 9) Playground (try anything)\n",
    "Change the **prompt**, **system**, or **temperature** and run again."
   ]
  },
  {
   "cell_type": "code",
   "execution_count": null,
   "metadata": {},
   "outputs": [],
   "source": [
    "system_msg = \"You are a helpful assistant.\"\n",
    "prompt = \"Write a one-sentence tip for choosing comfortable sneakers.\"\n",
    "print(get_completion(prompt, system=system_msg, temperature=0.6))"
   ]
  }
 ],
 "metadata": {
  "kernelspec": {
   "display_name": ".venv",
   "language": "python",
   "name": "python3"
  },
  "language_info": {
   "codemirror_mode": {
    "name": "ipython",
    "version": 3
   },
   "file_extension": ".py",
   "mimetype": "text/x-python",
   "name": "python",
   "nbconvert_exporter": "python",
   "pygments_lexer": "ipython3",
   "version": "3.9.6"
  }
 },
 "nbformat": 4,
 "nbformat_minor": 2
}
