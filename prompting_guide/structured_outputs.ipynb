{
 "cells": [
  {
   "cell_type": "markdown",
   "id": "e6bbe609",
   "metadata": {},
   "source": [
    "\n",
    "# Structured Outputs (Retail Theme)\n",
    "\n",
    "**What you'll explore**\n",
    "- How to guide models to return valid, structured JSON instead of free-form text\n",
    "- Enforcing schemas with Pydantic models for reliability and validation\n",
    "- Practical examples across domains:\n",
    "\n",
    "    - calendar event creation\n",
    "\n",
    "    - chain-of-thought math tutoring\n",
    "\n",
    "    - pros/cons from reviews\n",
    "\n",
    "    - product catalog extraction\n",
    "\n",
    "    - POS / app log parsing\n",
    "    \n",
    "    - Receipt Image to Structure JSON \n",
    "\n",
    "**Exercises**\n",
    "\n",
    "At the end of the notebook, you’ll find 5 exercises to practice these skills."
   ]
  },
  {
   "cell_type": "code",
   "execution_count": 17,
   "id": "1f71d156",
   "metadata": {},
   "outputs": [],
   "source": [
    "\n",
    "from openai import OpenAI\n",
    "from pydantic import BaseModel, Field, ValidationError, field_validator\n",
    "from typing import List, Literal, Optional\n",
    "import os,json, textwrap, base64\n",
    "\n",
    "# Optional: set your key here for local testing (avoid committing real keys)\n",
    "os.environ[\"OPENAI_API_KEY\"] = \"\" \n",
    "\n",
    "client = OpenAI()\n",
    "\n",
    "MODEL = \"gpt-4o-mini\"\n"
   ]
  },
  {
   "cell_type": "markdown",
   "id": "32cff86e",
   "metadata": {},
   "source": [
    "## 1) Calendar Event Extraction\n",
    "\n",
    "Turn free-form text about plans into a structured calendar event with name, date, and participants.”"
   ]
  },
  {
   "cell_type": "code",
   "execution_count": null,
   "id": "f8820f43",
   "metadata": {},
   "outputs": [
    {
     "name": "stdout",
     "output_type": "stream",
     "text": [
      "event_name='Boxing Match' date='Next Weekend' participants=['Bruce', 'Arthur']\n"
     ]
    }
   ],
   "source": [
    "# Define a structured schema for events using Pydantic.\n",
    "# This enforces that every event has:\n",
    "# - event_name (string)\n",
    "# - date (string, e.g. \"Saturday\" or \"2025-08-31\")\n",
    "# - participants (list of strings)\n",
    "class CalendarEvent(BaseModel):\n",
    "    event_name: str\n",
    "    date: str\n",
    "    participants: list[str]\n",
    "\n",
    "\n",
    "# Ask the model to extract event info from a natural language sentence.\n",
    "# Because we pass response_format=CalendarEvent, the model must return JSON\n",
    "# that matches the schema, and Pydantic will validate it.\n",
    "response = client.chat.completions.parse(\n",
    "    model=MODEL,\n",
    "    messages=[\n",
    "        {\"role\": \"system\", \"content\": \"Extract the event information.\"},\n",
    "        {\n",
    "            \"role\": \"user\",\n",
    "            \"content\": \"Bruce and Arthur are going to a boxing match on Saturday.\",\n",
    "        },\n",
    "    ],\n",
    "    response_format=CalendarEvent,\n",
    ")\n",
    "\n",
    "# The parsed, schema-validated object is accessible here.\n",
    "event = response.choices[0].message.parsed\n",
    "\n",
    "# Print the structured CalendarEvent object\n",
    "print(event)\n"
   ]
  },
  {
   "cell_type": "markdown",
   "id": "dcc93a7a",
   "metadata": {},
   "source": [
    "## 2) Structured Outputs for Chain-of-Thought Math Tutoring\n",
    "Capture step-by-step reasoning and a final answer in a structured format instead of free text."
   ]
  },
  {
   "cell_type": "code",
   "execution_count": 26,
   "id": "9ea0b632",
   "metadata": {},
   "outputs": [
    {
     "name": "stdout",
     "output_type": "stream",
     "text": [
      "steps=[Step(explanation='We start with the equation 8x + 7 = -23. The first step is to isolate the term with x by subtracting 7 from both sides.', output='8x + 7 - 7 = -23 - 7'), Step(explanation='This simplifies to 8x = -30. Now we need to solve for x by dividing both sides by 8.', output='8x / 8 = -30 / 8'), Step(explanation='This simplifies to x = -30 / 8, which can be reduced to x = -15 / 4.', output='x = -15/4')] final_answer='x = -3.75'\n"
     ]
    }
   ],
   "source": [
    "# Define a schema for one step in the solution\n",
    "class Step(BaseModel):\n",
    "    explanation: str   # plain-language reasoning for this step\n",
    "    output: str        # the numeric or algebraic result of this step\n",
    "\n",
    "# Define a schema for the full reasoning process\n",
    "class MathReasoning(BaseModel):\n",
    "    steps: list[Step]   # ordered list of reasoning steps\n",
    "    final_answer: str   # final solution at the end\n",
    "\n",
    "# Ask the model to act like a math tutor and guide through the solution\n",
    "response = client.chat.completions.parse(\n",
    "    model=MODEL,\n",
    "    messages=[\n",
    "        {\n",
    "            \"role\": \"system\",\n",
    "            \"content\": \"You are a helpful math tutor. Guide the user through the solution step by step.\",\n",
    "        },\n",
    "        {\"role\": \"user\", \"content\": \"how can I solve 8x + 7 = -23\"},\n",
    "    ],\n",
    "    response_format=MathReasoning,\n",
    ")\n",
    "\n",
    "# The structured reasoning object returned by the model\n",
    "math_reasoning = response.choices[0].message.parsed\n",
    "print(math_reasoning)\n"
   ]
  },
  {
   "cell_type": "markdown",
   "id": "a1577ee3",
   "metadata": {},
   "source": [
    "## 3) Reviews → Pros/Cons\n",
    "Turn free-form customer feedback into a structured list of pros and cons."
   ]
  },
  {
   "cell_type": "code",
   "execution_count": 37,
   "id": "df37dc5c",
   "metadata": {},
   "outputs": [
    {
     "name": "stdout",
     "output_type": "stream",
     "text": [
      "pros=['Shoes fit well', 'Very comfortable'] cons=['Delivery was late']\n"
     ]
    }
   ],
   "source": [
    "# Define a schema for structured sentiment extraction\n",
    "class ProsCons(BaseModel):\n",
    "    pros: List[str]   # positive aspects\n",
    "    cons: List[str]   # negative aspects\n",
    "\n",
    "# Example customer review (unstructured text)\n",
    "review = \"Delivery was late, but the shoes fit well and are very comfortable.\"\n",
    "# Ask the model to extract pros and cons into the schema\n",
    "resp = client.chat.completions.parse(\n",
    "    model=MODEL,\n",
    "    messages=[{\n",
    "        \"role\": \"user\",\n",
    "        \"content\": f\"Extract the pros and cons from the review.\\n\\nReview: {review}\"\n",
    "    }],\n",
    "    temperature=0,              \n",
    "    response_format=ProsCons\n",
    ")\n",
    "\n",
    "# The structured object with pros/cons lists\n",
    "data = resp.choices[0].message.parsed\n",
    "print(data)\n"
   ]
  },
  {
   "cell_type": "markdown",
   "id": "3f65a062",
   "metadata": {},
   "source": []
  },
  {
   "cell_type": "markdown",
   "id": "28a0712d",
   "metadata": {},
   "source": [
    "## Catalog Extraction (brand/model/price…)\n",
    "\n",
    "Extracting structured product data from unstructured description"
   ]
  },
  {
   "cell_type": "code",
   "execution_count": null,
   "id": "815c3810",
   "metadata": {},
   "outputs": [
    {
     "name": "stdout",
     "output_type": "stream",
     "text": [
      "brand='Apple' model='iPhone 14 Pro Max' storage='256GB' color='Space Black' price=0.0\n"
     ]
    }
   ],
   "source": [
    "# Define a schema for catalog entries\n",
    "class CatalogEntry(BaseModel):\n",
    "    brand: str\n",
    "    model: str\n",
    "    storage: Optional[str] = None   # optional if not mentioned\n",
    "    color: Optional[str] = None     # optional if not mentioned\n",
    "    price: float\n",
    "\n",
    "# Example product description (unstructured text)\n",
    "desc = \"\"\"Apple iPhone 14 Pro Max – 256GB, Space Black\n",
    "\n",
    "Experience power, elegance, and cutting-edge technology with the iPhone 14 Pro Max. Finished in a sleek Space Black, this flagship device combines premium design with uncompromising performance.\n",
    "\n",
    "256GB storage ensures plenty of space for photos, apps, and 4K videos.\n",
    "\n",
    "Powered by Apple’s advanced A16 Bionic chip, it delivers lightning-fast speed and smooth multitasking.\n",
    "\n",
    "The Super Retina XDR display with ProMotion brings vibrant colors and ultra-fluid visuals.\n",
    "\n",
    "Capture stunning detail in any light with the 48MP triple-camera system and cinematic video modes.\n",
    "\n",
    "Built with iOS features like Dynamic Island, Always-On display, and enhanced security.\n",
    "\n",
    "Whether for work, creativity, or play, the iPhone 14 Pro Max is designed to keep up with your life — all for $1299.\"\"\"\n",
    "\n",
    "# Ask the model to extract structured catalog fields\n",
    "resp2 = client.chat.completions.parse(\n",
    "    model=MODEL,\n",
    "    messages=[{\"role\": \"user\", \"content\": f\"Extract catalog fields from:\\n{desc}.\"}],\n",
    "    temperature=0,\n",
    "    response_format=CatalogEntry\n",
    ")\n",
    "\n",
    "# The structured object with product attributes\n",
    "entry = resp2.choices[0].message.parsed\n",
    "print(entry)\n"
   ]
  },
  {
   "cell_type": "markdown",
   "id": "64cc2359",
   "metadata": {},
   "source": [
    "## POS / App Log Parsing\n",
    "Convert raw log lines into structured records with severity, error codes, and metadata OR flag as refusal if unparseable."
   ]
  },
  {
   "cell_type": "code",
   "execution_count": 30,
   "id": "fb6ad6de",
   "metadata": {},
   "outputs": [
    {
     "name": "stdout",
     "output_type": "stream",
     "text": [
      "timestamp='2025-03-01 14:22:33' severity='high' error_code='502' endpoint='/orders/checkout' user_id='abc123' register_id='12' message='Gateway timeout' tags=[] status='success'\n"
     ]
    }
   ],
   "source": [
    "# Define a schema for structured log records\n",
    "class LogRecord(BaseModel):\n",
    "    timestamp: str\n",
    "    severity: Literal[\"low\",\"medium\",\"high\",\"critical\"]   # mapped from INFO/WARN/ERROR/FATAL\n",
    "    error_code: str\n",
    "    endpoint: Optional[str] = None\n",
    "    user_id: Optional[str] = None\n",
    "    register_id: Optional[str] = None\n",
    "    message: str\n",
    "    tags: List[str] = []     # extracted keywords\n",
    "    status: Literal[\"success\",\"refusal\"]  # \"refusal\" if parsing fails\n",
    "\n",
    "# Example log lines\n",
    "log_line  = \"\"\"[2025-03-01 14:22:33] ERROR 502: Gateway timeout on /orders/checkout user=abc123 register=12\"\"\"\n",
    "log_line1 = \"\"\"2025-03-01T07:10:05Z WARN 429 Too many requests\"\"\"\n",
    "log_line2 = \"\"\"<<<garbled>>> ### %% no time no code /???\"\"\"\n",
    "\n",
    "# Instruction prompt to the model\n",
    "instruction = f\"\"\"Parse the log into JSON. \n",
    "If unparsable/unsafe, set status=\"refusal\" and keep only message with reason. \n",
    "Return JSON only.\n",
    "\n",
    "Log: {log_line}\n",
    "\"\"\"\n",
    "\n",
    "# Ask the model to parse the log into a LogRecord schema\n",
    "resp3 = client.chat.completions.parse(\n",
    "    model=MODEL,\n",
    "    messages=[{\"role\":\"user\",\"content\": instruction}],\n",
    "    temperature=0,\n",
    "    response_format=LogRecord\n",
    ")\n",
    "\n",
    "# Structured object with parsed log record (or refusal)\n",
    "record = resp3.choices[0].message.parsed\n",
    "print(record)\n"
   ]
  },
  {
   "cell_type": "markdown",
   "id": "470b7328",
   "metadata": {},
   "source": [
    "## Receipt → Structured JSON \n",
    "Use a vision call to read a receipt image, then convert the extracted text into a validated JSON schema."
   ]
  },
  {
   "cell_type": "code",
   "execution_count": 32,
   "id": "6cc76da1",
   "metadata": {},
   "outputs": [
    {
     "data": {
      "text/html": [
       "<img src=\"receipt_1.jpeg\"/>"
      ],
      "text/plain": [
       "<IPython.core.display.Image object>"
      ]
     },
     "metadata": {},
     "output_type": "display_data"
    },
    {
     "name": "stdout",
     "output_type": "stream",
     "text": [
      "- **Store Name:** The Tack Room\n",
      "- **City/State:** Lincoln, MA\n",
      "- **Date:** 4/8/24\n",
      "- **Items Ordered:**\n",
      "  1. BBQ Potato Chips - $7.00\n",
      "  2. Diet Coke - $1.00\n",
      "  3. Trillium Fort Point - $6.00\n",
      "  4. Fried Chicken Sandwich - $14.00\n",
      "  5. Famous Duck Grilled Cheese - $12.00\n",
      "  6. Mac & Cheese - $6.00\n",
      "  7. Burger of the moment - $14.00\n",
      "- **Total Amount:** $124.53\n",
      "store_name='The Tack Room' store_city='Lincoln' store_state='MA' date='4/8/24' items=[ReceiptItem(name='BBQ Potato Chips', quantity=1.0, unit_price=7.0, line_total=7.0), ReceiptItem(name='Diet Coke', quantity=1.0, unit_price=1.0, line_total=1.0), ReceiptItem(name='Trillium Fort Point', quantity=1.0, unit_price=6.0, line_total=6.0), ReceiptItem(name='Fried Chicken Sandwich', quantity=1.0, unit_price=14.0, line_total=14.0), ReceiptItem(name='Famous Duck Grilled Cheese', quantity=1.0, unit_price=12.0, line_total=12.0), ReceiptItem(name='Mac & Cheese', quantity=1.0, unit_price=6.0, line_total=6.0), ReceiptItem(name='Burger of the moment', quantity=1.0, unit_price=14.0, line_total=14.0)] total=124.53\n"
     ]
    }
   ],
   "source": [
    "from typing import List\n",
    "from pydantic import BaseModel\n",
    "from IPython.display import Image, display\n",
    "import base64\n",
    "\n",
    "# -------- First pass — Vision: extract receipt text from a local image --------\n",
    "local_image_path = \"receipt_1.jpeg\"  # <- set to a real file on your machine\n",
    "display(Image(url=local_image_path))\n",
    "\n",
    "try:\n",
    "    with open(local_image_path, \"rb\") as f:\n",
    "        b64 = base64.b64encode(f.read()).decode(\"utf-8\")\n",
    "    data_url = f\"data:image/jpeg;base64,{b64}\"\n",
    "\n",
    "    resp2 = client.chat.completions.create(\n",
    "        model=MODEL,  # vision-capable model\n",
    "        messages=[{\n",
    "            \"role\": \"user\",\n",
    "            \"content\": [\n",
    "                {\"type\": \"text\", \"text\": \"Extract store name, city/state if visible, date, items ordered and total amount.\"},\n",
    "                {\"type\": \"image_url\", \"image_url\": {\"url\": data_url}}\n",
    "            ]\n",
    "        }],\n",
    "        temperature=0.2\n",
    "    )\n",
    "    print(resp2.choices[0].message.content)  # raw extracted text\n",
    "\n",
    "except FileNotFoundError:\n",
    "    print(\"⚠️ Set local_image_path to a real image before running.\")\n",
    "\n",
    "# -------- Second pass — Structured: convert text → validated JSON (Receipt) --------\n",
    "class ReceiptItem(BaseModel):\n",
    "    name: str\n",
    "    quantity: float\n",
    "    unit_price: float\n",
    "    line_total: float\n",
    "\n",
    "class Receipt(BaseModel):\n",
    "    store_name: str\n",
    "    store_city: str\n",
    "    store_state: str\n",
    "    date: str\n",
    "    items: List[ReceiptItem]\n",
    "    total: float\n",
    "\n",
    "receipt_text = resp2.choices[0].message.content\n",
    "prompt = f\"Extract a structured receipt from this text.\\n\\n{receipt_text}\"\n",
    "\n",
    "resp4 = client.chat.completions.parse(\n",
    "    model=MODEL,  # text model\n",
    "    messages=[{\"role\": \"user\", \"content\": prompt}],\n",
    "    temperature=0,\n",
    "    response_format=Receipt\n",
    ")\n",
    "\n",
    "receipt = resp4.choices[0].message.parsed\n",
    "print(receipt)\n"
   ]
  },
  {
   "cell_type": "markdown",
   "id": "daee28ea",
   "metadata": {},
   "source": [
    "# 🧾 Exercises — Structured Outputs\n",
    "\n",
    "### Exercise 1: Pros/Cons with Sarcasm  \n",
    "Take a sarcastic product review like:  \n",
    "*\"Awesome, the phone died in two days. At least it’s a paperweight now.\"*  \n",
    "- Extract pros and cons as lists.  \n",
    "- Check if the model correctly treats sarcasm as negative instead of positive.  \n",
    "\n",
    "---\n",
    "\n",
    "### Exercise 2: Catalog Parsing with Missing Info  \n",
    "You’re given a product description without a price, e.g.:  \n",
    "*\"Samsung Galaxy S22 Ultra – 256GB, Phantom Black. A premium smartphone with pro-grade cameras and S Pen.\"*  \n",
    "- Extract catalog fields: brand, model, storage, color, and price.  \n",
    "- Observe whether the model invents a price, leaves it empty, or defaults to zero.  \n",
    "\n",
    "---\n",
    "\n",
    "### Exercise 3: Log Parsing with Mixed Severities  \n",
    "You’re given logs with different severities: INFO, WARN, ERROR, CRITICAL. \n",
    "\n",
    "2025-03-01T07:10:05Z INFO User 123 logged in\n",
    "\n",
    "2025-03-01T07:12:44Z WARN Disk space at 85% on server-7\n",
    "\n",
    "2025-03-01T07:15:10Z ERROR 502 Gateway timeout on /orders/checkout\n",
    "\n",
    "2025-03-01T07:16:22Z CRITICAL Database connection lost on cluster-2\n",
    "\n",
    "2025-03-01T07:18:01Z DEBUG Cache refreshed for /products/12345\n",
    "\n",
    "- Parse the logs into structured objects. \n",
    "- Improve the prompt by explicitly including a severity mapping:  \n",
    "  - INFO/DEBUG → low  \n",
    "  - WARN → medium  \n",
    "  - ERROR → high  \n",
    "  - CRITICAL → critical  \n",
    "\n",
    "---\n",
    "\n",
    "### Exercise 4: GST Invoice To Structured Output\n",
    "You’re given a GST invoice image — https://www.outputbooks.com/wp-content/themes/outputbooks/images/oub_GST_Invoice_Format.png  \n",
    "- **Pass 1 (Vision):** Extract all visible text from the invoice.  \n",
    "- **Pass 2 (Structured):** From the extracted text, structure the data into:  \n",
    "  - invoice number, invoice date, due date  \n",
    "  - seller details (company, address, GSTIN)  \n",
    "  - buyer details (name, address, GSTIN, contact)  \n",
    "  - line items (name, manufacturing date, quantity, rate, tax, amount)  \n",
    "  - subtotal\n",
    "  - grand total  \n",
    "  - amount in words  \n",
    "\n",
    "---\n",
    "\n",
    "### Exercise 5: Design Your Own Structured Scenario  \n",
    "Think of a business case where structured JSON would be more useful than free text.  \n",
    "Write a short schema, craft a prompt, and run it on your own input.\n",
    "\n"
   ]
  }
 ],
 "metadata": {
  "kernelspec": {
   "display_name": ".venv",
   "language": "python",
   "name": "python3"
  },
  "language_info": {
   "codemirror_mode": {
    "name": "ipython",
    "version": 3
   },
   "file_extension": ".py",
   "mimetype": "text/x-python",
   "name": "python",
   "nbconvert_exporter": "python",
   "pygments_lexer": "ipython3",
   "version": "3.9.6"
  }
 },
 "nbformat": 4,
 "nbformat_minor": 5
}
