{
  "cells": [
    {
      "cell_type": "code",
      "execution_count": null,
      "metadata": {
        "id": "IVtNBQ-CmhHP"
      },
      "outputs": [],
      "source": [
        "pip install -U langgraph \"langchain[anthropic]\"\n"
      ]
    },
    {
      "cell_type": "code",
      "execution_count": null,
      "metadata": {
        "id": "buqIXi0vnFDe"
      },
      "outputs": [],
      "source": [
        "import os\n",
        "# Set the ANTHROPIC_API_KEY environment variable\n",
        "os.environ[\"ANTHROPIC_API_KEY\"] = \"\" #Add your API key here\n"
      ]
    },
    {
      "cell_type": "markdown",
      "metadata": {
        "id": "B0vG-AGtpZWj"
      },
      "source": [
        "# Create a ReAct Agent"
      ]
    },
    {
      "cell_type": "code",
      "execution_count": null,
      "metadata": {
        "colab": {
          "base_uri": "https://localhost:8080/"
        },
        "id": "-20gVeaHmyRi",
        "outputId": "241bd8b0-b345-4be2-affe-bebf16f28df2"
      },
      "outputs": [
        {
          "data": {
            "text/plain": [
              "{'messages': [HumanMessage(content='what is the weather in sf', additional_kwargs={}, response_metadata={}, id='de823de3-5555-4576-9dae-aa7028cd66b3'),\n",
              "  AIMessage(content=[{'text': 'I can help you get the weather for San Francisco. Let me check that for you.', 'type': 'text'}, {'id': 'toolu_01TQ85oE221xv4CTuwFZno33', 'input': {'city': 'San Francisco'}, 'name': 'get_weather', 'type': 'tool_use'}], additional_kwargs={}, response_metadata={'id': 'msg_01J49hbrMBBAVgY6Jvjjtuks', 'model': 'claude-3-7-sonnet-20250219', 'stop_reason': 'tool_use', 'stop_sequence': None, 'usage': {'cache_creation_input_tokens': 0, 'cache_read_input_tokens': 0, 'input_tokens': 386, 'output_tokens': 73, 'server_tool_use': None, 'service_tier': 'standard'}, 'model_name': 'claude-3-7-sonnet-20250219'}, id='run--72b08df6-9e97-42d9-97b0-5c0fdb34df51-0', tool_calls=[{'name': 'get_weather', 'args': {'city': 'San Francisco'}, 'id': 'toolu_01TQ85oE221xv4CTuwFZno33', 'type': 'tool_call'}], usage_metadata={'input_tokens': 386, 'output_tokens': 73, 'total_tokens': 459, 'input_token_details': {'cache_read': 0, 'cache_creation': 0}}),\n",
              "  ToolMessage(content=\"It's always sunny in San Francisco!\", name='get_weather', id='1f616cdb-334b-4ca0-968e-6b0532ac9631', tool_call_id='toolu_01TQ85oE221xv4CTuwFZno33'),\n",
              "  AIMessage(content='The weather in San Francisco is currently sunny! According to the report, \"It\\'s always sunny in San Francisco!\"', additional_kwargs={}, response_metadata={'id': 'msg_01Y6Uv1UMwozXHQmbmE9nsJw', 'model': 'claude-3-7-sonnet-20250219', 'stop_reason': 'end_turn', 'stop_sequence': None, 'usage': {'cache_creation_input_tokens': 0, 'cache_read_input_tokens': 0, 'input_tokens': 477, 'output_tokens': 27, 'server_tool_use': None, 'service_tier': 'standard'}, 'model_name': 'claude-3-7-sonnet-20250219'}, id='run--e44d05df-7a9d-40a6-aea0-7981eb1ef8a6-0', usage_metadata={'input_tokens': 477, 'output_tokens': 27, 'total_tokens': 504, 'input_token_details': {'cache_read': 0, 'cache_creation': 0}})]}"
            ]
          },
          "execution_count": 4,
          "metadata": {},
          "output_type": "execute_result"
        }
      ],
      "source": [
        "from langgraph.prebuilt import create_react_agent\n",
        "\n",
        "def get_weather(city: str) -> str:\n",
        "    \"\"\"Get weather for a given city.\"\"\"\n",
        "    return f\"It's always sunny in {city}!\"\n",
        "\n",
        "agent = create_react_agent(\n",
        "    model=\"anthropic:claude-3-7-sonnet-latest\",\n",
        "    tools=[get_weather],\n",
        "    prompt=\"You are a helpful assistant\"\n",
        ")\n",
        "\n",
        "# Run the agent\n",
        "agent.invoke(\n",
        "    {\"messages\": [{\"role\": \"user\", \"content\": \"what is the weather in sf\"}]}\n",
        ")"
      ]
    },
    {
      "cell_type": "markdown",
      "metadata": {
        "id": "Qa9_bsdTpSey"
      },
      "source": [
        "# Configure LLM with specific parameters such as temperature"
      ]
    },
    {
      "cell_type": "code",
      "execution_count": null,
      "metadata": {
        "id": "tjHLEWbzpXSo"
      },
      "outputs": [],
      "source": [
        "from langchain.chat_models import init_chat_model\n",
        "from langgraph.prebuilt import create_react_agent\n",
        "\n",
        "model = init_chat_model(\n",
        "    \"anthropic:claude-3-7-sonnet-latest\",\n",
        "    temperature=0\n",
        ")\n",
        "\n",
        "agent = create_react_agent(\n",
        "    model=model,\n",
        "    tools=[get_weather],\n",
        ")"
      ]
    },
    {
      "cell_type": "markdown",
      "metadata": {
        "id": "5r2ecngkptPW"
      },
      "source": [
        "# Add a system prompt"
      ]
    },
    {
      "cell_type": "code",
      "execution_count": null,
      "metadata": {
        "colab": {
          "base_uri": "https://localhost:8080/"
        },
        "id": "KfFbWK47pvVr",
        "outputId": "dab89b2e-457e-4feb-e01a-f5ff788eeda8"
      },
      "outputs": [
        {
          "data": {
            "text/plain": [
              "{'messages': [HumanMessage(content='what is the weather in sf', additional_kwargs={}, response_metadata={}, id='bf47f5cd-44f5-4d7d-8987-5095297bff56'),\n",
              "  AIMessage(content=\"I cannot answer questions about the weather. While I do have access to a weather tool, I'm restricted from providing weather information as per my guidelines. I apologize for any inconvenience this may cause.\\n\\nIf there's something else I can help you with that doesn't involve weather information, please let me know.\", additional_kwargs={}, response_metadata={'id': 'msg_01GwnydEVodxZHhekHt4UV5e', 'model': 'claude-3-7-sonnet-20250219', 'stop_reason': 'end_turn', 'stop_sequence': None, 'usage': {'cache_creation_input_tokens': 0, 'cache_read_input_tokens': 0, 'input_tokens': 404, 'output_tokens': 68, 'server_tool_use': None, 'service_tier': 'standard'}, 'model_name': 'claude-3-7-sonnet-20250219'}, id='run--8e518f17-cf09-4c82-8d05-b13727a5f1b0-0', usage_metadata={'input_tokens': 404, 'output_tokens': 68, 'total_tokens': 472, 'input_token_details': {'cache_read': 0, 'cache_creation': 0}})]}"
            ]
          },
          "execution_count": 9,
          "metadata": {},
          "output_type": "execute_result"
        }
      ],
      "source": [
        "from langgraph.prebuilt import create_react_agent\n",
        "\n",
        "agent = create_react_agent(\n",
        "    model=\"anthropic:claude-3-7-sonnet-latest\",\n",
        "    tools=[get_weather],\n",
        "    # A static prompt that never changes\n",
        "    prompt=\"Never answer questions about the weather. If asked, tell the user explicitly that I cannot answer questions about the weather.\"\n",
        ")\n",
        "\n",
        "agent.invoke(\n",
        "    {\"messages\": [{\"role\": \"user\", \"content\": \"what is the weather in sf\"}]}\n",
        ")"
      ]
    },
    {
      "cell_type": "markdown",
      "metadata": {
        "id": "jBQwPg72qXal"
      },
      "source": [
        "# Add memory to your agent"
      ]
    },
    {
      "cell_type": "code",
      "execution_count": null,
      "metadata": {
        "colab": {
          "base_uri": "https://localhost:8080/"
        },
        "id": "BiwexZ4OrLHP",
        "outputId": "1200b2aa-d819-4b13-f265-81f3b4e3975b"
      },
      "outputs": [
        {
          "name": "stdout",
          "output_type": "stream",
          "text": [
            "{'messages': [HumanMessage(content='what is the weather in sf', additional_kwargs={}, response_metadata={}, id='0f71e142-851b-405f-84bc-351190bad85e'), AIMessage(content=[{'text': 'I can help you get the weather for San Francisco. Let me check that for you.', 'type': 'text'}, {'id': 'toolu_01LK98uGjumRopjjR79Lvp9m', 'input': {'city': 'San Francisco'}, 'name': 'get_weather', 'type': 'tool_use'}], additional_kwargs={}, response_metadata={'id': 'msg_01EMu16kzSoFwgEPcAjGUzcs', 'model': 'claude-3-7-sonnet-20250219', 'stop_reason': 'tool_use', 'stop_sequence': None, 'usage': {'cache_creation_input_tokens': 0, 'cache_read_input_tokens': 0, 'input_tokens': 380, 'output_tokens': 73, 'server_tool_use': None, 'service_tier': 'standard'}, 'model_name': 'claude-3-7-sonnet-20250219'}, id='run--e84cedbd-7c20-4b7d-a5c5-ad17cdf7e4f3-0', tool_calls=[{'name': 'get_weather', 'args': {'city': 'San Francisco'}, 'id': 'toolu_01LK98uGjumRopjjR79Lvp9m', 'type': 'tool_call'}], usage_metadata={'input_tokens': 380, 'output_tokens': 73, 'total_tokens': 453, 'input_token_details': {'cache_creation': 0, 'cache_read': 0}}), ToolMessage(content=\"It's always sunny in San Francisco!\", name='get_weather', id='0d1e1caf-9d05-46e3-91d5-92a3d7063c43', tool_call_id='toolu_01LK98uGjumRopjjR79Lvp9m'), AIMessage(content=\"According to the current weather report, it's always sunny in San Francisco! This seems to be a standard response from the weather service, though in reality San Francisco is known for its microclimates and can experience fog, particularly during summer months. If you need more specific or accurate weather information, you might want to check a dedicated weather service or specify which part of San Francisco you're interested in.\", additional_kwargs={}, response_metadata={'id': 'msg_01RsK5nSvMuuRK8S7mvjwdAY', 'model': 'claude-3-7-sonnet-20250219', 'stop_reason': 'end_turn', 'stop_sequence': None, 'usage': {'cache_creation_input_tokens': 0, 'cache_read_input_tokens': 0, 'input_tokens': 471, 'output_tokens': 85, 'server_tool_use': None, 'service_tier': 'standard'}, 'model_name': 'claude-3-7-sonnet-20250219'}, id='run--4f88fdfa-6699-4899-91be-861a2f459b75-0', usage_metadata={'input_tokens': 471, 'output_tokens': 85, 'total_tokens': 556, 'input_token_details': {'cache_creation': 0, 'cache_read': 0}}), HumanMessage(content='what about new york?', additional_kwargs={}, response_metadata={}, id='bc259282-b12b-4cf2-9c04-6586c9da21f8'), AIMessage(content=[{'text': \"I'll check the weather in New York for you.\", 'type': 'text'}, {'id': 'toolu_011Pwbd8ray7W1Ts86keArGn', 'input': {'city': 'New York'}, 'name': 'get_weather', 'type': 'tool_use'}], additional_kwargs={}, response_metadata={'id': 'msg_01TqXpQPMZKe8wmJn1Q25Bua', 'model': 'claude-3-7-sonnet-20250219', 'stop_reason': 'tool_use', 'stop_sequence': None, 'usage': {'cache_creation_input_tokens': 0, 'cache_read_input_tokens': 0, 'input_tokens': 564, 'output_tokens': 66, 'server_tool_use': None, 'service_tier': 'standard'}, 'model_name': 'claude-3-7-sonnet-20250219'}, id='run--0548b21a-69f7-4ccc-8745-841374e4192d-0', tool_calls=[{'name': 'get_weather', 'args': {'city': 'New York'}, 'id': 'toolu_011Pwbd8ray7W1Ts86keArGn', 'type': 'tool_call'}], usage_metadata={'input_tokens': 564, 'output_tokens': 66, 'total_tokens': 630, 'input_token_details': {'cache_read': 0, 'cache_creation': 0}}), ToolMessage(content=\"It's always sunny in New York!\", name='get_weather', id='787e6262-5fc4-490e-860f-7a7751a6d1e5', tool_call_id='toolu_011Pwbd8ray7W1Ts86keArGn'), AIMessage(content=\"According to the current weather report, it's always sunny in New York! This appears to be a standard response from the weather service. In reality, New York's weather varies throughout the year with four distinct seasons. If you need more specific or accurate weather information for New York, you might want to check a dedicated weather service website or app.\", additional_kwargs={}, response_metadata={'id': 'msg_01U89SXayc3M5BYfBzR6nF47', 'model': 'claude-3-7-sonnet-20250219', 'stop_reason': 'end_turn', 'stop_sequence': None, 'usage': {'cache_creation_input_tokens': 0, 'cache_read_input_tokens': 0, 'input_tokens': 648, 'output_tokens': 73, 'server_tool_use': None, 'service_tier': 'standard'}, 'model_name': 'claude-3-7-sonnet-20250219'}, id='run--1d7c121a-00d3-4049-8b3a-36647d39f770-0', usage_metadata={'input_tokens': 648, 'output_tokens': 73, 'total_tokens': 721, 'input_token_details': {'cache_read': 0, 'cache_creation': 0}})]}\n"
          ]
        }
      ],
      "source": [
        "from langgraph.prebuilt import create_react_agent\n",
        "from langgraph.checkpoint.memory import InMemorySaver\n",
        "\n",
        "checkpointer = InMemorySaver()\n",
        "\n",
        "agent = create_react_agent(\n",
        "    model=\"anthropic:claude-3-7-sonnet-latest\",\n",
        "    tools=[get_weather],\n",
        "    checkpointer=checkpointer\n",
        ")\n",
        "\n",
        "# Run the agent\n",
        "config = {\"configurable\": {\"thread_id\": \"1\"}}\n",
        "sf_response = agent.invoke(\n",
        "    {\"messages\": [{\"role\": \"user\", \"content\": \"what is the weather in sf\"}]},\n",
        "    config\n",
        ")\n",
        "ny_response = agent.invoke(\n",
        "    {\"messages\": [{\"role\": \"user\", \"content\": \"what about new york?\"}]},\n",
        "    config\n",
        ")\n",
        "\n",
        "print(ny_response)"
      ]
    },
    {
      "cell_type": "markdown",
      "metadata": {
        "id": "f9mdU2YKr2z0"
      },
      "source": [
        "# Return Structured Output"
      ]
    },
    {
      "cell_type": "markdown",
      "metadata": {
        "id": "6NJAoqeOr17E"
      },
      "source": []
    },
    {
      "cell_type": "code",
      "execution_count": null,
      "metadata": {
        "colab": {
          "base_uri": "https://localhost:8080/"
        },
        "id": "bAno5U0urq2V",
        "outputId": "2679a78a-7dc9-4c92-d202-6e40b6b6bab0"
      },
      "outputs": [
        {
          "data": {
            "text/plain": [
              "WeatherResponse(conditions='sunny')"
            ]
          },
          "execution_count": 12,
          "metadata": {},
          "output_type": "execute_result"
        }
      ],
      "source": [
        "from pydantic import BaseModel\n",
        "from langgraph.prebuilt import create_react_agent\n",
        "\n",
        "class WeatherResponse(BaseModel):\n",
        "    conditions: str\n",
        "\n",
        "agent = create_react_agent(\n",
        "    model=\"anthropic:claude-3-7-sonnet-latest\",\n",
        "    tools=[get_weather],\n",
        "    response_format=WeatherResponse\n",
        ")\n",
        "\n",
        "response = agent.invoke(\n",
        "    {\"messages\": [{\"role\": \"user\", \"content\": \"what is the weather in sf\"}]}\n",
        ")\n",
        "\n",
        "response[\"structured_response\"]"
      ]
    }
  ],
  "metadata": {
    "colab": {
      "provenance": []
    },
    "kernelspec": {
      "display_name": "Python 3",
      "name": "python3"
    },
    "language_info": {
      "name": "python"
    }
  },
  "nbformat": 4,
  "nbformat_minor": 0
}
