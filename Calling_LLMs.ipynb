{
  "cells": [
    {
      "cell_type": "markdown",
      "metadata": {
        "id": "9XObWqd-y_7H"
      },
      "source": [
        "\n",
        "# Snippets for different ways to call LLMs"
      ]
    },
    {
      "cell_type": "code",
      "execution_count": null,
      "metadata": {
        "id": "5_Qt_BxQpHwO"
      },
      "outputs": [],
      "source": [
        "#LLM Config\n",
        "\n",
        "from openai import OpenAI\n",
        "import os\n",
        "os.environ[\"OPENAI_API_KEY\"] = \"\"  # Replace with your actual key\n",
        "client = OpenAI()\n"
      ]
    },
    {
      "cell_type": "markdown",
      "metadata": {
        "id": "gRQIMGuro-Em"
      },
      "source": [
        "## Simple Prompting"
      ]
    },
    {
      "cell_type": "code",
      "execution_count": null,
      "metadata": {
        "colab": {
          "base_uri": "https://localhost:8080/"
        },
        "id": "XEbw-7k-pCys",
        "outputId": "20252336-3b42-4fc0-a9d3-7e46bf001aca"
      },
      "outputs": [
        {
          "name": "stdout",
          "output_type": "stream",
          "text": [
            "The capital of France is Paris.\n"
          ]
        }
      ],
      "source": [
        "from openai import OpenAI\n",
        "client = OpenAI()\n",
        "\n",
        "response = client.responses.create(\n",
        "    model=\"gpt-4o\",\n",
        "    input=\"What is the capital of France?\"\n",
        ")\n",
        "\n",
        "print(response.output_text)"
      ]
    },
    {
      "cell_type": "markdown",
      "metadata": {
        "id": "42SMKyM8oz2J"
      },
      "source": []
    },
    {
      "cell_type": "markdown",
      "metadata": {
        "id": "_RXigMiApi5i"
      },
      "source": [
        "## Instruction Following"
      ]
    },
    {
      "cell_type": "code",
      "execution_count": null,
      "metadata": {
        "colab": {
          "base_uri": "https://localhost:8080/"
        },
        "id": "JS9IIvNjpxOk",
        "outputId": "b94d682f-a0f1-43bb-c426-2dad63870708"
      },
      "outputs": [
        {
          "name": "stdout",
          "output_type": "stream",
          "text": [
            "YARRR! The capital o' France be Paris, matey! A fine city fer treasure huntin' an’ enjoyin’ a mug o’ rum by the River Seine. Hoist yer sails an’ set a course fer Paris, ye landlubber! Arrr!\n"
          ]
        }
      ],
      "source": [
        "from openai import OpenAI\n",
        "client = OpenAI()\n",
        "\n",
        "response = client.responses.create(\n",
        "    model=\"gpt-4.1\",\n",
        "    instructions=\"Talk like a pirate.\",\n",
        "    input=\"What is the capital of France?\",\n",
        ")\n",
        "\n",
        "print(response.output_text)"
      ]
    },
    {
      "cell_type": "markdown",
      "metadata": {
        "id": "w6_H2lhUqE3x"
      },
      "source": [
        "## Adding roles in Messages"
      ]
    },
    {
      "cell_type": "code",
      "execution_count": null,
      "metadata": {
        "colab": {
          "base_uri": "https://localhost:8080/"
        },
        "id": "eddBaSCwqGRr",
        "outputId": "0da861c4-107a-41c0-e658-0c2cb91d5916"
      },
      "outputs": [
        {
          "name": "stdout",
          "output_type": "stream",
          "text": [
            "Arrr! The grand capital o’ France be Paris, matey! ‘Tis a city of lights, fine grub, and treasures aplenty! If ye be hankerin’ for the Eiffel Tower or fancy a spot o’ plunder at the Louvre, Paris be the place to set yer course!\n"
          ]
        }
      ],
      "source": [
        "from openai import OpenAI\n",
        "client = OpenAI()\n",
        "\n",
        "response = client.responses.create(\n",
        "    model=\"gpt-4.1\",\n",
        "    input=[\n",
        "        {\n",
        "            \"role\": \"developer\",\n",
        "            \"content\": \"Talk like a pirate.\"\n",
        "        },\n",
        "        {\n",
        "            \"role\": \"user\",\n",
        "            \"content\": \"What is the capital of France?\"\n",
        "        }\n",
        "    ]\n",
        ")\n",
        "\n",
        "print(response.output_text)"
      ]
    },
    {
      "cell_type": "markdown",
      "metadata": {
        "id": "-TXGq8BAqnoI"
      },
      "source": [
        "## Getting Structured Outputs from LLMs"
      ]
    },
    {
      "cell_type": "code",
      "execution_count": null,
      "metadata": {
        "colab": {
          "base_uri": "https://localhost:8080/"
        },
        "id": "9X5czKQcrcFK",
        "outputId": "0eed2ce9-4171-49d6-d7e7-3201a93d0c1f"
      },
      "outputs": [
        {
          "name": "stdout",
          "output_type": "stream",
          "text": [
            "name='Boxing Match' date='Saturday' participants=['Bruce', 'Arthur']\n"
          ]
        }
      ],
      "source": [
        "from openai import OpenAI\n",
        "from pydantic import BaseModel\n",
        "\n",
        "client = OpenAI()\n",
        "\n",
        "class CalendarEvent(BaseModel):\n",
        "    name: str\n",
        "    date: str\n",
        "    participants: list[str]\n",
        "\n",
        "response = client.responses.parse(\n",
        "    model=\"gpt-4o\",\n",
        "    input=[\n",
        "        {\"role\": \"system\", \"content\": \"Extract the event information.\"},\n",
        "        {\n",
        "            \"role\": \"user\",\n",
        "            \"content\": \"Bruce and Arthur are going to a boxing match on Saturday.\",\n",
        "        },\n",
        "    ],\n",
        "    text_format=CalendarEvent,\n",
        ")\n",
        "\n",
        "event = response.output_parsed\n",
        "print(event)"
      ]
    },
    {
      "cell_type": "markdown",
      "metadata": {
        "id": "ZoFrpS0sr6sr"
      },
      "source": [
        "## Structured Outputs for chain-of-thought math tutoring"
      ]
    },
    {
      "cell_type": "code",
      "execution_count": null,
      "metadata": {
        "colab": {
          "base_uri": "https://localhost:8080/"
        },
        "id": "Qm4GlzY5sNte",
        "outputId": "cc5dc178-ec04-47e1-fc9b-5ff009916b8d"
      },
      "outputs": [
        {
          "name": "stdout",
          "output_type": "stream",
          "text": [
            "steps=[Step(explanation='We need to solve the equation for \\\\( x \\\\). Start by isolating the term with \\\\( x \\\\) on one side of the equation.', output='Subtract 7 from both sides of the equation to get rid of the constant term on the left side: \\n\\n\\\\[ 8x + 7 - 7 = -23 - 7 \\\\]'), Step(explanation='Simplify both sides by performing the subtraction.', output='This results in: \\n\\n\\\\[ 8x = -30 \\\\]'), Step(explanation='Now, isolate \\\\( x \\\\) by dividing both sides of the equation by 8.', output='Divide both sides by 8: \\n\\n\\\\[ x = \\\\frac{-30}{8} \\\\]'), Step(explanation='Simplify the fraction by dividing the numerator and denominator by their greatest common divisor, which is 2.', output='Simplify the fraction: \\n\\n\\\\[ x = \\\\frac{-30 \\\\div 2}{8 \\\\div 2} = \\\\frac{-15}{4} \\\\]')] final_answer='x = \\\\frac{-15}{4}'\n"
          ]
        }
      ],
      "source": [
        "from openai import OpenAI\n",
        "from pydantic import BaseModel\n",
        "\n",
        "client = OpenAI()\n",
        "\n",
        "class Step(BaseModel):\n",
        "    explanation: str\n",
        "    output: str\n",
        "\n",
        "class MathReasoning(BaseModel):\n",
        "    steps: list[Step]\n",
        "    final_answer: str\n",
        "\n",
        "response = client.responses.parse(\n",
        "    model=\"gpt-4o\",\n",
        "    input=[\n",
        "        {\n",
        "            \"role\": \"system\",\n",
        "            \"content\": \"You are a helpful math tutor. Guide the user through the solution step by step.\",\n",
        "        },\n",
        "        {\"role\": \"user\", \"content\": \"how can I solve 8x + 7 = -23\"},\n",
        "    ],\n",
        "    text_format=MathReasoning,\n",
        ")\n",
        "\n",
        "math_reasoning = response.output_parsed\n",
        "print(math_reasoning)"
      ]
    },
    {
      "cell_type": "markdown",
      "metadata": {
        "id": "5mTxqedRsu3-"
      },
      "source": [
        "##  Function Calling - Enable models to fetch data and take actions."
      ]
    },
    {
      "cell_type": "code",
      "execution_count": null,
      "metadata": {
        "colab": {
          "base_uri": "https://localhost:8080/"
        },
        "id": "_txCuLOes2TR",
        "outputId": "df6aa997-130c-4756-d01a-4fd74b970952"
      },
      "outputs": [
        {
          "name": "stdout",
          "output_type": "stream",
          "text": [
            "[ResponseFunctionToolCall(arguments='{\"location\":\"Paris, France\"}', call_id='call_QZhR5dDSqJBLTMiQavDsthY9', name='get_weather', type='function_call', id='fc_686695bdf16881998ff357d3be1c6a7b01d7db05f283da0b', status='completed')]\n"
          ]
        }
      ],
      "source": [
        "from openai import OpenAI\n",
        "\n",
        "client = OpenAI()\n",
        "\n",
        "tools = [{\n",
        "    \"type\": \"function\",\n",
        "    \"name\": \"get_weather\",\n",
        "    \"description\": \"Get current temperature for a given location.\",\n",
        "    \"parameters\": {\n",
        "        \"type\": \"object\",\n",
        "        \"properties\": {\n",
        "            \"location\": {\n",
        "                \"type\": \"string\",\n",
        "                \"description\": \"City and country e.g. Bogotá, Colombia\"\n",
        "            }\n",
        "        },\n",
        "        \"required\": [\n",
        "            \"location\"\n",
        "        ],\n",
        "        \"additionalProperties\": False\n",
        "    }\n",
        "}]\n",
        "\n",
        "response = client.responses.create(\n",
        "    model=\"gpt-4o\",\n",
        "    input=[{\"role\": \"user\", \"content\": \"What is the weather in Paris?\"}],\n",
        "    tools=tools\n",
        ")\n",
        "\n",
        "print(response.output)"
      ]
    },
    {
      "cell_type": "markdown",
      "metadata": {
        "id": "24sRUEtQuRsz"
      },
      "source": [
        "## Providing Multiple Tools"
      ]
    },
    {
      "cell_type": "code",
      "execution_count": null,
      "metadata": {
        "colab": {
          "base_uri": "https://localhost:8080/"
        },
        "id": "pu1MnvhxuYHO",
        "outputId": "a4a5d0df-68cf-4767-e759-07c6660d4f01"
      },
      "outputs": [
        {
          "name": "stdout",
          "output_type": "stream",
          "text": [
            "[ResponseOutputMessage(id='msg_686697b64efc819bb38c48aa0641c08e039ddffeffcb0ff2', content=[ResponseOutputText(annotations=[], text='The capital of France is Paris.', type='output_text', logprobs=[])], role='assistant', status='completed', type='message')]\n",
            "[ResponseFunctionToolCall(arguments='{\"location\":\"Paris, France\"}', call_id='call_ZocN2cePHnpNc4J0DS4oROP6', name='get_weather', type='function_call', id='fc_686697b72f90819a9a34fa87212863660dd0c8a436b5e806', status='completed')]\n",
            "[ResponseFunctionToolCall(arguments='{\"to\":\"bruce@wayne.co\",\"subject\":\"Is the Batmobile Ready?\",\"body\":\"Hi Bruce,\\\\n\\\\nI wanted to check if the Batmobile is ready.\\\\n\\\\nThanks!\"}', call_id='call_KYfj2S4gpyE62QlwbXrjRzSU', name='send_email', type='function_call', id='fc_686697b83c40819aaf9a649faaa142cb04c44fc25c5f07cf', status='completed'), ResponseFunctionToolCall(arguments='{\"to\":\"alfred@wayne.co\",\"subject\":\"Is the Batmobile Ready?\",\"body\":\"Hi Alfred,\\\\n\\\\nI wanted to check if the Batmobile is ready.\\\\n\\\\nThanks!\"}', call_id='call_um1kUmAUrrVhdRoPcdQw2P0b', name='send_email', type='function_call', id='fc_686697b8c548819ab4f9e4941b84e2f904c44fc25c5f07cf', status='completed')]\n"
          ]
        }
      ],
      "source": [
        "tools = [{\n",
        "    \"type\": \"function\",\n",
        "    \"name\": \"get_weather\",\n",
        "    \"description\": \"Get current temperature for a given location.\",\n",
        "    \"parameters\": {\n",
        "        \"type\": \"object\",\n",
        "        \"properties\": {\n",
        "            \"location\": {\n",
        "                \"type\": \"string\",\n",
        "                \"description\": \"City and country e.g. Bogotá, Colombia\"\n",
        "            }\n",
        "        },\n",
        "        \"required\": [\n",
        "            \"location\"\n",
        "        ],\n",
        "        \"additionalProperties\": False\n",
        "    }\n",
        "},{\n",
        "    \"type\": \"function\",\n",
        "    \"name\": \"send_email\",\n",
        "    \"description\": \"Send an email to a given recipient with a subject and message.\",\n",
        "    \"parameters\": {\n",
        "        \"type\": \"object\",\n",
        "        \"properties\": {\n",
        "            \"to\": {\n",
        "                \"type\": \"string\",\n",
        "                \"description\": \"The recipient email address.\"\n",
        "            },\n",
        "            \"subject\": {\n",
        "                \"type\": \"string\",\n",
        "                \"description\": \"Email subject line.\"\n",
        "            },\n",
        "            \"body\": {\n",
        "                \"type\": \"string\",\n",
        "                \"description\": \"Body of the email message.\"\n",
        "            }\n",
        "        },\n",
        "        \"required\": [\n",
        "            \"to\",\n",
        "            \"subject\",\n",
        "            \"body\"\n",
        "        ],\n",
        "        \"additionalProperties\": False\n",
        "    }\n",
        "}]\n",
        "\n",
        "response = client.responses.create(\n",
        "    model=\"gpt-4o\",\n",
        "    input=[{\"role\": \"user\", \"content\": \"What is the capital of France?\"}],\n",
        "    tools=tools\n",
        ")\n",
        "\n",
        "print(response.output)\n",
        "\n",
        "\n",
        "response = client.responses.create(\n",
        "    model=\"gpt-4o\",\n",
        "    input=[{\"role\": \"user\", \"content\": \"What is the current weather in Paris?\"}],\n",
        "    tools=tools\n",
        ")\n",
        "\n",
        "print(response.output)\n",
        "\n",
        "\n",
        "response = client.responses.create(\n",
        "    model=\"gpt-4o\",\n",
        "    input=[{\"role\": \"user\", \"content\": \"Can you send an email to bruce@wayne.co and alfred@wayne.co asking if the batmobile is ready?\"}],\n",
        "    tools=tools\n",
        ")\n",
        "\n",
        "print(response.output)\n"
      ]
    },
    {
      "cell_type": "code",
      "execution_count": null,
      "metadata": {
        "id": "-bgakmMVunaV"
      },
      "outputs": [],
      "source": []
    }
  ],
  "metadata": {
    "colab": {
      "provenance": [],
      "toc_visible": true
    },
    "kernelspec": {
      "display_name": "Python 3",
      "name": "python3"
    },
    "language_info": {
      "name": "python"
    }
  },
  "nbformat": 4,
  "nbformat_minor": 0
}
